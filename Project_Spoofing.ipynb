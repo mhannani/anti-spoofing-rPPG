{
 "cells": [
  {
   "cell_type": "markdown",
   "metadata": {
    "colab_type": "text",
    "id": "1geVKc8ESUph",
    "pycharm": {
     "name": "#%% md\n"
    }
   },
   "source": [
    "# Face Anti Spoofing Neural Network"
   ]
  },
  {
   "cell_type": "code",
   "execution_count": 2,
   "metadata": {
    "colab": {},
    "colab_type": "code",
    "id": "ItQsbhw6SQbN",
    "pycharm": {
     "name": "#%%\n"
    }
   },
   "outputs": [],
   "source": [
    "import torch\n",
    "import torch.nn as nn\n",
    "import torchvision\n",
    "import numpy as np\n",
    "import matplotlib.pyplot as plt\n",
    "from PIL import Image"
   ]
  },
  {
   "cell_type": "markdown",
   "metadata": {
    "colab_type": "text",
    "id": "82pbDU5xScdH",
    "pycharm": {
     "name": "#%% md\n"
    }
   },
   "source": [
    "## Display function"
   ]
  },
  {
   "cell_type": "code",
   "execution_count": 3,
   "metadata": {
    "colab": {},
    "colab_type": "code",
    "id": "hCCnoNDZSarC",
    "pycharm": {
     "name": "#%%\n"
    }
   },
   "outputs": [],
   "source": [
    "def imshow_np(img):\n",
    "    height,width,depth = img.shape\n",
    "    if depth==1:\n",
    "        img=img[:,:,0]\n",
    "    plt.imshow(img)\n",
    "    plt.show()\n",
    "\n",
    "def imshow(img):\n",
    "    imshow_np(img.numpy())"
   ]
  },
  {
   "cell_type": "markdown",
   "metadata": {
    "colab_type": "text",
    "id": "uv4WF0IpSf9W",
    "pycharm": {
     "name": "#%% md\n"
    }
   },
   "source": [
    "## Data sets creation"
   ]
  },
  {
   "cell_type": "code",
   "execution_count": 4,
   "metadata": {
    "colab": {},
    "colab_type": "code",
    "id": "CDDNczBWSeOU",
    "pycharm": {
     "name": "#%%\n"
    }
   },
   "outputs": [],
   "source": [
    "#creation des donnees:\n",
    "\n",
    "#Images\n",
    "Images = np.load('../data_processing/images.npz')\n",
    "\n",
    "#Changement de base\n",
    "Anchors = np.load('../data_processing/anchors.npz')\n",
    "  \n",
    "#label_D:\n",
    "Labels_D = np.load('../data_processing/labels_D.npz')\n",
    "\n",
    "#label_spoofing:\n",
    "Labels = np.load('../data_processing/label.npz')\n",
    "\n",
    "#set:\n",
    "n=len(Images)\n",
    "\n",
    "data_images = np.zeros((n,256,256,3),dtype=np.float32)\n",
    "data_anchors = np.zeros((n,2,4096),dtype=np.float32)\n",
    "data_labels_D = np.zeros((n,32,32,1),dtype=np.float32)\n",
    "data_labels = np.zeros((n),dtype=np.float32)\n",
    "\n",
    "for item in Images.files:\n",
    "    data_images[int(item),:,:,:] = Images[item]\n",
    "    data_anchors[int(item),:,:] = Anchors[item]\n",
    "    data_labels_D[int(item),:,:,:] = Labels_D[item]\n",
    "    data_labels[int(item)] = Labels[item]"
   ]
  },
  {
   "cell_type": "code",
   "execution_count": 5,
   "metadata": {
    "colab": {},
    "colab_type": "code",
    "id": "sj77kbWtSjXF",
    "pycharm": {
     "name": "#%%\n"
    }
   },
   "outputs": [],
   "source": [
    "training_part = 45/55\n",
    "n_train = int(n*training_part)\n",
    "\n",
    "#Training set\n",
    "data_images_train = data_images[:n_train,:,:,:]\n",
    "data_anchors_train = data_anchors[:n_train,:,:]\n",
    "data_labels_D_train = data_labels_D[:n_train,:,:,:]\n",
    "data_labels_train = data_labels[:n_train]\n",
    "\n",
    "#Test set\n",
    "data_images_test = data_images[n_train:,:,:,:]\n",
    "data_anchors_test = data_anchors[n_train:,:,:]\n",
    "data_labels_D_test = data_labels_D[n_train:,:,:,:]\n",
    "data_labels_test = data_labels[n_train:]"
   ]
  },
  {
   "cell_type": "code",
   "execution_count": 6,
   "metadata": {
    "colab": {},
    "colab_type": "code",
    "id": "K-OKsHuHShkO",
    "pycharm": {
     "name": "#%%\n"
    }
   },
   "outputs": [],
   "source": [
    "def prepare_dataloader_D(data_images_train,data_images_test,data_labels_D_train,data_labels_D_test):\n",
    "  \n",
    "    trainset_D = torch.utils.data.TensorDataset(torch.tensor(np.transpose(data_images_train, (0, 3, 1, 2))), torch.tensor(data_labels_D_train))\n",
    "    testset_D = torch.utils.data.TensorDataset(torch.tensor(np.transpose(data_images_test, (0, 3, 1, 2))), torch.tensor(data_labels_D_test))\n",
    "\n",
    "    trainloader_D = torch.utils.data.DataLoader(trainset_D,batch_size=5,shuffle=False)\n",
    "    testloader_D = torch.utils.data.DataLoader(testset_D,batch_size=5,shuffle=False)\n",
    "\n",
    "    return trainloader_D, testloader_D\n",
    "\n",
    "trainloader_D,testloader_D = prepare_dataloader_D(data_images_train,data_images_test,data_labels_D_train,data_labels_D_test)"
   ]
  },
  {
   "cell_type": "markdown",
   "metadata": {
    "colab_type": "text",
    "id": "CvFwUq3GSntJ",
    "pycharm": {
     "name": "#%% md\n"
    }
   },
   "source": [
    "## Model creation"
   ]
  },
  {
   "cell_type": "code",
   "execution_count": 7,
   "metadata": {
    "colab": {
     "base_uri": "https://localhost:8080/",
     "height": 212
    },
    "colab_type": "code",
    "id": "-n37-Y8ASlXa",
    "outputId": "22749dab-e636-41e3-e8d7-b9d4f4878373",
    "pycharm": {
     "name": "#%%\n"
    }
   },
   "outputs": [
    {
     "name": "stderr",
     "output_type": "stream",
     "text": [
      "/home/amine/Documents/Face-Anti-Spoofing-Neural-Network/Face-Anti-Spoofing-Neural-Network/Anti_spoof_net_CNN.py:15: UserWarning: nn.init.xavier_normal is now deprecated in favor of nn.init.xavier_normal_.\n",
      "  nn.init.xavier_normal(self.cnn0.weight)\n",
      "/home/amine/Documents/Face-Anti-Spoofing-Neural-Network/Face-Anti-Spoofing-Neural-Network/Anti_spoof_net_CNN.py:20: UserWarning: nn.init.xavier_normal is now deprecated in favor of nn.init.xavier_normal_.\n",
      "  nn.init.xavier_normal(self.cnn01.weight)\n",
      "/home/amine/Documents/Face-Anti-Spoofing-Neural-Network/Face-Anti-Spoofing-Neural-Network/Anti_spoof_net_CNN.py:26: UserWarning: nn.init.xavier_normal is now deprecated in favor of nn.init.xavier_normal_.\n",
      "  nn.init.xavier_normal(self.cnn1.weight)\n",
      "/home/amine/Documents/Face-Anti-Spoofing-Neural-Network/Face-Anti-Spoofing-Neural-Network/Anti_spoof_net_CNN.py:31: UserWarning: nn.init.xavier_normal is now deprecated in favor of nn.init.xavier_normal_.\n",
      "  nn.init.xavier_normal(self.cnn2.weight)\n",
      "/home/amine/Documents/Face-Anti-Spoofing-Neural-Network/Face-Anti-Spoofing-Neural-Network/Anti_spoof_net_CNN.py:36: UserWarning: nn.init.xavier_normal is now deprecated in favor of nn.init.xavier_normal_.\n",
      "  nn.init.xavier_normal(self.cnn3.weight)\n"
     ]
    }
   ],
   "source": [
    "import Anti_Spoof_net\n",
    "\n",
    "mon_model = Anti_Spoof_net.Anti_spoof_net()\n",
    "criterion = nn.MSELoss()\n",
    "optimizer = torch.optim.Adam(mon_model.parameters(),lr=3e-3,betas=(0.9, 0.999),eps=1e-08)"
   ]
  },
  {
   "cell_type": "markdown",
   "metadata": {
    "colab_type": "text",
    "id": "qcpVfUyjaEtB",
    "pycharm": {
     "name": "#%% md\n"
    }
   },
   "source": [
    "## Training"
   ]
  },
  {
   "cell_type": "code",
   "execution_count": 8,
   "metadata": {
    "colab": {},
    "colab_type": "code",
    "id": "DIq5xKw9Spnx",
    "pycharm": {
     "name": "#%%\n"
    }
   },
   "outputs": [],
   "source": [
    "def train_CNN(net, optimizer, trainloader, data_anchors, criterion, n_epoch = 10):\n",
    "    total = 0\n",
    "    for epoch in range(n_epoch):\n",
    "        # loop over the dataset multiple times\n",
    "        running_loss = 0.0\n",
    "        for i, data in enumerate(trainloader, 0):\n",
    "            #Pre-created Data:\n",
    "            images, labels_D = data\n",
    "            # training step\n",
    "            optimizer.zero_grad()\n",
    "            outputs_D, _ = net(images,False,data_anchors[i:i+5,:,:])\n",
    "            #handle NaN:\n",
    "            if (torch.norm((outputs_D != outputs_D).float())==0):   \n",
    "                if (i%50==0 or i%50==1):\n",
    "                    imshow_np(np.transpose(images[0,:,:,:].numpy(),(1,2,0)))\n",
    "                    imshow_np(np.transpose(outputs_D[0,:,:,:].detach().numpy(),(1,2,0)))\n",
    "                loss = criterion(outputs_D, labels_D)\n",
    "                loss.backward()\n",
    "                optimizer.step()\n",
    "                # compute statistics\n",
    "                total += labels_D.size(0)\n",
    "                running_loss += loss.item()\n",
    "                print('[%d, %5d] loss: %.3f' % (epoch + 1, i + 1, running_loss / total))\n",
    "        print('Epoch finished')\n",
    "    print('Finished Training')"
   ]
  },
  {
   "cell_type": "code",
   "execution_count": 9,
   "metadata": {
    "colab": {},
    "colab_type": "code",
    "id": "u7M6F3l7TOVK",
    "pycharm": {
     "name": "#%%\n"
    }
   },
   "outputs": [],
   "source": [
    "def train_RNN(net, optimizer, trainloader, anchors, labels, criterion, n_epoch = 10):\n",
    "    total = 0\n",
    "    for epoch in range(n_epoch):\n",
    "    # loop over the dataset multiple times\n",
    "        running_loss = 0.0\n",
    "        for i, data in enumerate(trainloader, 0):\n",
    "            #Donnees pre-crees:\n",
    "            images, labels_D = data\n",
    "            # training step\n",
    "            optimizer.zero_grad()\n",
    "            _, outputs_F = net(images,False,anchors[i:i+1,:,:])\n",
    "            #handle NaN:\n",
    "            if (torch.norm((outputs_F != outputs_F).float())==0):   \n",
    "                if (i%50==0 or i%50==1):\n",
    "                    imshow_np(np.transpose(images[0,:,:,:].numpy(),(1,2,0)))\n",
    "                    print('F:')\n",
    "                    print(outputs_F)\n",
    "                if labels[i*5]==0: #toutes les images du batch proviennent de la même vidéo\n",
    "                    label=torch.zeros((5,1,2),dtype=torch.float32)\n",
    "                else:\n",
    "                    label=torch.ones((5,1,2),dtype=torch.float32)\n",
    "                loss = criterion(outputs_F, label)\n",
    "                loss.backward()\n",
    "                optimizer.step()\n",
    "                # compute statistics\n",
    "                total += labels_D.size(0)\n",
    "                running_loss += loss.item()\n",
    "                print('[%d, %5d] loss: %.3f' % (epoch + 1, i + 1, running_loss / total))\n",
    "        print('Epoch finished')\n",
    "    print('Finished Training')"
   ]
  },
  {
   "cell_type": "markdown",
   "metadata": {
    "pycharm": {
     "name": "#%% md\n"
    }
   },
   "source": [
    "### For the overall model training, we alternatively train the CNN part and the CNN/RNN part"
   ]
  },
  {
   "cell_type": "code",
   "execution_count": 10,
   "metadata": {
    "colab": {
     "base_uri": "https://localhost:8080/",
     "height": 1522
    },
    "colab_type": "code",
    "id": "PH8qENwIRjJL",
    "outputId": "7995ee05-d5c6-470d-985a-a9fa9167f6e8",
    "pycharm": {
     "name": "#%%\n"
    }
   },
   "outputs": [
    {
     "ename": "TypeError",
     "evalue": "'module' object is not callable",
     "output_type": "error",
     "traceback": [
      "\u001B[0;31m---------------------------------------------------------------------------\u001B[0m",
      "\u001B[0;31mTypeError\u001B[0m                                 Traceback (most recent call last)",
      "\u001B[0;32m/tmp/ipykernel_2995/1080806160.py\u001B[0m in \u001B[0;36m<module>\u001B[0;34m\u001B[0m\n\u001B[1;32m      7\u001B[0m \u001B[0;34m\u001B[0m\u001B[0m\n\u001B[1;32m      8\u001B[0m \u001B[0;31m# mon_model = torch.load('mon_model')\u001B[0m\u001B[0;34m\u001B[0m\u001B[0;34m\u001B[0m\u001B[0m\n\u001B[0;32m----> 9\u001B[0;31m \u001B[0moutputs\u001B[0m \u001B[0;34m=\u001B[0m \u001B[0mtrain_All\u001B[0m\u001B[0;34m(\u001B[0m\u001B[0mmon_model\u001B[0m\u001B[0;34m,\u001B[0m \u001B[0moptimizer\u001B[0m\u001B[0;34m,\u001B[0m \u001B[0mtrainloader_D\u001B[0m\u001B[0;34m,\u001B[0m\u001B[0mdata_anchors_train\u001B[0m\u001B[0;34m,\u001B[0m \u001B[0mdata_labels_train\u001B[0m\u001B[0;34m,\u001B[0m \u001B[0mcriterion\u001B[0m\u001B[0;34m,\u001B[0m \u001B[0mn_epoch\u001B[0m \u001B[0;34m=\u001B[0m \u001B[0;36m10\u001B[0m\u001B[0;34m)\u001B[0m\u001B[0;34m\u001B[0m\u001B[0;34m\u001B[0m\u001B[0m\n\u001B[0m",
      "\u001B[0;32m/tmp/ipykernel_2995/1080806160.py\u001B[0m in \u001B[0;36mtrain_All\u001B[0;34m(net, optimizer, trainloader, anchors, labels, criterion, n_epoch)\u001B[0m\n\u001B[1;32m      1\u001B[0m \u001B[0;32mdef\u001B[0m \u001B[0mtrain_All\u001B[0m\u001B[0;34m(\u001B[0m\u001B[0mnet\u001B[0m\u001B[0;34m,\u001B[0m \u001B[0moptimizer\u001B[0m\u001B[0;34m,\u001B[0m \u001B[0mtrainloader\u001B[0m\u001B[0;34m,\u001B[0m \u001B[0manchors\u001B[0m\u001B[0;34m,\u001B[0m \u001B[0mlabels\u001B[0m\u001B[0;34m,\u001B[0m \u001B[0mcriterion\u001B[0m\u001B[0;34m,\u001B[0m \u001B[0mn_epoch\u001B[0m \u001B[0;34m=\u001B[0m \u001B[0;36m10\u001B[0m\u001B[0;34m)\u001B[0m\u001B[0;34m:\u001B[0m\u001B[0;34m\u001B[0m\u001B[0;34m\u001B[0m\u001B[0m\n\u001B[1;32m      2\u001B[0m     \u001B[0;32mfor\u001B[0m \u001B[0mi\u001B[0m \u001B[0;32min\u001B[0m \u001B[0mrange\u001B[0m\u001B[0;34m(\u001B[0m\u001B[0mn_epoch\u001B[0m\u001B[0;34m)\u001B[0m\u001B[0;34m:\u001B[0m\u001B[0;34m\u001B[0m\u001B[0;34m\u001B[0m\u001B[0m\n\u001B[0;32m----> 3\u001B[0;31m         \u001B[0mtrain_CNN\u001B[0m\u001B[0;34m(\u001B[0m\u001B[0mnet\u001B[0m\u001B[0;34m,\u001B[0m \u001B[0moptimizer\u001B[0m\u001B[0;34m,\u001B[0m \u001B[0mtrainloader_D\u001B[0m\u001B[0;34m,\u001B[0m \u001B[0mdata_anchors_train\u001B[0m\u001B[0;34m,\u001B[0m \u001B[0mcriterion\u001B[0m\u001B[0;34m,\u001B[0m \u001B[0mn_epoch\u001B[0m \u001B[0;34m=\u001B[0m \u001B[0;36m1\u001B[0m\u001B[0;34m)\u001B[0m\u001B[0;34m\u001B[0m\u001B[0;34m\u001B[0m\u001B[0m\n\u001B[0m\u001B[1;32m      4\u001B[0m         \u001B[0mtorch\u001B[0m\u001B[0;34m.\u001B[0m\u001B[0msave\u001B[0m\u001B[0;34m(\u001B[0m\u001B[0mnet\u001B[0m\u001B[0;34m,\u001B[0m\u001B[0;34m'mon_model'\u001B[0m\u001B[0;34m)\u001B[0m\u001B[0;34m\u001B[0m\u001B[0;34m\u001B[0m\u001B[0m\n\u001B[1;32m      5\u001B[0m         \u001B[0mtrain_RNN\u001B[0m\u001B[0;34m(\u001B[0m\u001B[0mnet\u001B[0m\u001B[0;34m,\u001B[0m \u001B[0moptimizer\u001B[0m\u001B[0;34m,\u001B[0m \u001B[0mtrainloader_D\u001B[0m\u001B[0;34m,\u001B[0m \u001B[0mdata_anchors_train\u001B[0m\u001B[0;34m,\u001B[0m \u001B[0mdata_labels_train\u001B[0m\u001B[0;34m,\u001B[0m \u001B[0mcriterion\u001B[0m\u001B[0;34m,\u001B[0m \u001B[0mn_epoch\u001B[0m \u001B[0;34m=\u001B[0m \u001B[0;36m1\u001B[0m\u001B[0;34m)\u001B[0m\u001B[0;34m\u001B[0m\u001B[0;34m\u001B[0m\u001B[0m\n",
      "\u001B[0;32m/tmp/ipykernel_2995/446984886.py\u001B[0m in \u001B[0;36mtrain_CNN\u001B[0;34m(net, optimizer, trainloader, data_anchors, criterion, n_epoch)\u001B[0m\n\u001B[1;32m      9\u001B[0m             \u001B[0;31m# training step\u001B[0m\u001B[0;34m\u001B[0m\u001B[0;34m\u001B[0m\u001B[0m\n\u001B[1;32m     10\u001B[0m             \u001B[0moptimizer\u001B[0m\u001B[0;34m.\u001B[0m\u001B[0mzero_grad\u001B[0m\u001B[0;34m(\u001B[0m\u001B[0;34m)\u001B[0m\u001B[0;34m\u001B[0m\u001B[0;34m\u001B[0m\u001B[0m\n\u001B[0;32m---> 11\u001B[0;31m             \u001B[0moutputs_D\u001B[0m\u001B[0;34m,\u001B[0m \u001B[0m_\u001B[0m \u001B[0;34m=\u001B[0m \u001B[0mnet\u001B[0m\u001B[0;34m(\u001B[0m\u001B[0mimages\u001B[0m\u001B[0;34m,\u001B[0m\u001B[0;32mFalse\u001B[0m\u001B[0;34m,\u001B[0m\u001B[0mdata_anchors\u001B[0m\u001B[0;34m[\u001B[0m\u001B[0mi\u001B[0m\u001B[0;34m:\u001B[0m\u001B[0mi\u001B[0m\u001B[0;34m+\u001B[0m\u001B[0;36m5\u001B[0m\u001B[0;34m,\u001B[0m\u001B[0;34m:\u001B[0m\u001B[0;34m,\u001B[0m\u001B[0;34m:\u001B[0m\u001B[0;34m]\u001B[0m\u001B[0;34m)\u001B[0m\u001B[0;34m\u001B[0m\u001B[0;34m\u001B[0m\u001B[0m\n\u001B[0m\u001B[1;32m     12\u001B[0m             \u001B[0;31m#handle NaN:\u001B[0m\u001B[0;34m\u001B[0m\u001B[0;34m\u001B[0m\u001B[0m\n\u001B[1;32m     13\u001B[0m             \u001B[0;32mif\u001B[0m \u001B[0;34m(\u001B[0m\u001B[0mtorch\u001B[0m\u001B[0;34m.\u001B[0m\u001B[0mnorm\u001B[0m\u001B[0;34m(\u001B[0m\u001B[0;34m(\u001B[0m\u001B[0moutputs_D\u001B[0m \u001B[0;34m!=\u001B[0m \u001B[0moutputs_D\u001B[0m\u001B[0;34m)\u001B[0m\u001B[0;34m.\u001B[0m\u001B[0mfloat\u001B[0m\u001B[0;34m(\u001B[0m\u001B[0;34m)\u001B[0m\u001B[0;34m)\u001B[0m\u001B[0;34m==\u001B[0m\u001B[0;36m0\u001B[0m\u001B[0;34m)\u001B[0m\u001B[0;34m:\u001B[0m\u001B[0;34m\u001B[0m\u001B[0;34m\u001B[0m\u001B[0m\n",
      "\u001B[0;32m~/anaconda3/lib/python3.9/site-packages/torch/nn/modules/module.py\u001B[0m in \u001B[0;36m_call_impl\u001B[0;34m(self, *input, **kwargs)\u001B[0m\n\u001B[1;32m   1100\u001B[0m         if not (self._backward_hooks or self._forward_hooks or self._forward_pre_hooks or _global_backward_hooks\n\u001B[1;32m   1101\u001B[0m                 or _global_forward_hooks or _global_forward_pre_hooks):\n\u001B[0;32m-> 1102\u001B[0;31m             \u001B[0;32mreturn\u001B[0m \u001B[0mforward_call\u001B[0m\u001B[0;34m(\u001B[0m\u001B[0;34m*\u001B[0m\u001B[0minput\u001B[0m\u001B[0;34m,\u001B[0m \u001B[0;34m**\u001B[0m\u001B[0mkwargs\u001B[0m\u001B[0;34m)\u001B[0m\u001B[0;34m\u001B[0m\u001B[0;34m\u001B[0m\u001B[0m\n\u001B[0m\u001B[1;32m   1103\u001B[0m         \u001B[0;31m# Do not call functions when jit is used\u001B[0m\u001B[0;34m\u001B[0m\u001B[0;34m\u001B[0m\u001B[0m\n\u001B[1;32m   1104\u001B[0m         \u001B[0mfull_backward_hooks\u001B[0m\u001B[0;34m,\u001B[0m \u001B[0mnon_full_backward_hooks\u001B[0m \u001B[0;34m=\u001B[0m \u001B[0;34m[\u001B[0m\u001B[0;34m]\u001B[0m\u001B[0;34m,\u001B[0m \u001B[0;34m[\u001B[0m\u001B[0;34m]\u001B[0m\u001B[0;34m\u001B[0m\u001B[0;34m\u001B[0m\u001B[0m\n",
      "\u001B[0;32m~/Documents/Face-Anti-Spoofing-Neural-Network/Face-Anti-Spoofing-Neural-Network/Anti_Spoof_net.py\u001B[0m in \u001B[0;36mforward\u001B[0;34m(self, x, turned, anchors)\u001B[0m\n\u001B[1;32m     26\u001B[0m         \u001B[0;32melse\u001B[0m\u001B[0;34m:\u001B[0m\u001B[0;34m\u001B[0m\u001B[0;34m\u001B[0m\u001B[0m\n\u001B[1;32m     27\u001B[0m             \u001B[0mF\u001B[0m\u001B[0;34m=\u001B[0m\u001B[0mU\u001B[0m\u001B[0;34m\u001B[0m\u001B[0;34m\u001B[0m\u001B[0m\n\u001B[0;32m---> 28\u001B[0;31m         \u001B[0mR\u001B[0m \u001B[0;34m=\u001B[0m \u001B[0mself\u001B[0m\u001B[0;34m.\u001B[0m\u001B[0mRNN\u001B[0m\u001B[0;34m(\u001B[0m\u001B[0mF\u001B[0m\u001B[0;34m)\u001B[0m\u001B[0;34m\u001B[0m\u001B[0;34m\u001B[0m\u001B[0m\n\u001B[0m\u001B[1;32m     29\u001B[0m \u001B[0;34m\u001B[0m\u001B[0m\n\u001B[1;32m     30\u001B[0m         \u001B[0;32mreturn\u001B[0m \u001B[0mD\u001B[0m\u001B[0;34m,\u001B[0m\u001B[0mR\u001B[0m\u001B[0;34m\u001B[0m\u001B[0;34m\u001B[0m\u001B[0m\n",
      "\u001B[0;32m~/anaconda3/lib/python3.9/site-packages/torch/nn/modules/module.py\u001B[0m in \u001B[0;36m_call_impl\u001B[0;34m(self, *input, **kwargs)\u001B[0m\n\u001B[1;32m   1100\u001B[0m         if not (self._backward_hooks or self._forward_hooks or self._forward_pre_hooks or _global_backward_hooks\n\u001B[1;32m   1101\u001B[0m                 or _global_forward_hooks or _global_forward_pre_hooks):\n\u001B[0;32m-> 1102\u001B[0;31m             \u001B[0;32mreturn\u001B[0m \u001B[0mforward_call\u001B[0m\u001B[0;34m(\u001B[0m\u001B[0;34m*\u001B[0m\u001B[0minput\u001B[0m\u001B[0;34m,\u001B[0m \u001B[0;34m**\u001B[0m\u001B[0mkwargs\u001B[0m\u001B[0;34m)\u001B[0m\u001B[0;34m\u001B[0m\u001B[0;34m\u001B[0m\u001B[0m\n\u001B[0m\u001B[1;32m   1103\u001B[0m         \u001B[0;31m# Do not call functions when jit is used\u001B[0m\u001B[0;34m\u001B[0m\u001B[0;34m\u001B[0m\u001B[0m\n\u001B[1;32m   1104\u001B[0m         \u001B[0mfull_backward_hooks\u001B[0m\u001B[0;34m,\u001B[0m \u001B[0mnon_full_backward_hooks\u001B[0m \u001B[0;34m=\u001B[0m \u001B[0;34m[\u001B[0m\u001B[0;34m]\u001B[0m\u001B[0;34m,\u001B[0m \u001B[0;34m[\u001B[0m\u001B[0;34m]\u001B[0m\u001B[0;34m\u001B[0m\u001B[0;34m\u001B[0m\u001B[0m\n",
      "\u001B[0;32m~/Documents/Face-Anti-Spoofing-Neural-Network/Face-Anti-Spoofing-Neural-Network/Anti_spoof_net_RNN.py\u001B[0m in \u001B[0;36mforward\u001B[0;34m(self, F)\u001B[0m\n\u001B[1;32m     24\u001B[0m         \u001B[0mlstm_out\u001B[0m\u001B[0;34m,\u001B[0m \u001B[0mself\u001B[0m\u001B[0;34m.\u001B[0m\u001B[0mhidden\u001B[0m \u001B[0;34m=\u001B[0m \u001B[0mself\u001B[0m\u001B[0;34m.\u001B[0m\u001B[0mLSTM\u001B[0m\u001B[0;34m(\u001B[0m\u001B[0mF\u001B[0m\u001B[0;34m,\u001B[0m\u001B[0mself\u001B[0m\u001B[0;34m.\u001B[0m\u001B[0mhidden\u001B[0m\u001B[0;34m)\u001B[0m \u001B[0;31m#lstm_out[5,1,100]\u001B[0m\u001B[0;34m\u001B[0m\u001B[0;34m\u001B[0m\u001B[0m\n\u001B[1;32m     25\u001B[0m         \u001B[0mR\u001B[0m \u001B[0;34m=\u001B[0m \u001B[0mself\u001B[0m\u001B[0;34m.\u001B[0m\u001B[0mfc\u001B[0m\u001B[0;34m(\u001B[0m\u001B[0mlstm_out\u001B[0m\u001B[0;34m)\u001B[0m \u001B[0;31m#F[5,1,2]\u001B[0m\u001B[0;34m\u001B[0m\u001B[0;34m\u001B[0m\u001B[0m\n\u001B[0;32m---> 26\u001B[0;31m         \u001B[0mR\u001B[0m \u001B[0;34m=\u001B[0m \u001B[0mtorch\u001B[0m\u001B[0;34m.\u001B[0m\u001B[0mfft\u001B[0m\u001B[0;34m(\u001B[0m\u001B[0mR\u001B[0m\u001B[0;34m,\u001B[0m \u001B[0msignal_ndim\u001B[0m\u001B[0;34m=\u001B[0m\u001B[0;36m1\u001B[0m\u001B[0;34m,\u001B[0m \u001B[0mnormalized\u001B[0m\u001B[0;34m=\u001B[0m\u001B[0;32mFalse\u001B[0m\u001B[0;34m)\u001B[0m\u001B[0;34m\u001B[0m\u001B[0;34m\u001B[0m\u001B[0m\n\u001B[0m\u001B[1;32m     27\u001B[0m         \u001B[0;32mreturn\u001B[0m \u001B[0mR\u001B[0m \u001B[0;31m#F[5,1,2]\u001B[0m\u001B[0;34m\u001B[0m\u001B[0;34m\u001B[0m\u001B[0m\n",
      "\u001B[0;31mTypeError\u001B[0m: 'module' object is not callable"
     ]
    }
   ],
   "source": [
    "def train_All(net, optimizer, trainloader, anchors, labels, criterion, n_epoch = 10):\n",
    "    for i in range(n_epoch):\n",
    "        train_CNN(net, optimizer, trainloader_D, data_anchors_train, criterion, n_epoch = 1)\n",
    "        torch.save(net,'mon_model')\n",
    "        train_RNN(net, optimizer, trainloader_D, data_anchors_train, data_labels_train, criterion, n_epoch = 1)\n",
    "        torch.save(net,'mon_model')\n",
    "    \n",
    "# mon_model = torch.load('mon_model')\n",
    "outputs = train_All(mon_model, optimizer, trainloader_D,data_anchors_train, data_labels_train, criterion, n_epoch = 10)"
   ]
  },
  {
   "cell_type": "code",
   "execution_count": null,
   "metadata": {
    "colab": {},
    "colab_type": "code",
    "id": "U9TwoiVeSrU1",
    "pycharm": {
     "name": "#%%\n"
    }
   },
   "outputs": [],
   "source": [
    "mon_model = torch.load('mon_model')"
   ]
  },
  {
   "cell_type": "code",
   "execution_count": null,
   "metadata": {
    "colab": {
     "base_uri": "https://localhost:8080/",
     "height": 102
    },
    "colab_type": "code",
    "id": "GYtBJjrOS_Af",
    "outputId": "fb99df55-be66-4958-929f-9c702be42377",
    "pycharm": {
     "name": "#%%\n"
    }
   },
   "outputs": [],
   "source": [
    "def accuracy(net, criterion, testloader, labels):\n",
    "    correct = 0\n",
    "    total = 0\n",
    "    l=0.015\n",
    "    for i, (images, _ ) in enumerate(testloader,0):\n",
    "        outputs_D, outputs_F = net(images,False,data_anchors_test[i:i+1,:,:])\n",
    "        critere = torch.norm(outputs_D)+l*torch.norm(outputs_F)\n",
    "        #We will take 850 as offset\n",
    "        if (critere>850 and label==1):\n",
    "            correct+=1\n",
    "        if (critere<850 and label==0):\n",
    "            correct==1\n",
    "        total+=1\n",
    "        print(correct/total)\n",
    "    accuracy =  correct / total\n",
    "    loss = loss/total\n",
    "    return accuracy, loss\n",
    "\n",
    "accuracy(mon_model, criterion, testloader_D, data_labels_test)"
   ]
  }
 ],
 "metadata": {
  "colab": {
   "collapsed_sections": [],
   "name": "Project_Spoofing.ipynb",
   "provenance": [],
   "toc_visible": true,
   "version": "0.3.2"
  },
  "kernelspec": {
   "display_name": "PRNet",
   "language": "python",
   "name": "prnet"
  },
  "language_info": {
   "codemirror_mode": {
    "name": "ipython",
    "version": 3
   },
   "file_extension": ".py",
   "mimetype": "text/x-python",
   "name": "python",
   "nbconvert_exporter": "python",
   "pygments_lexer": "ipython3",
   "version": "3.9.7"
  }
 },
 "nbformat": 4,
 "nbformat_minor": 1
}